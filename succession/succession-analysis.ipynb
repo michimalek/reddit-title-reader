{
 "cells": [
  {
   "cell_type": "markdown",
   "metadata": {},
   "source": [
    "# Data Visualization\n",
    "\n",
    "This is the data analysis section where I take the .csv just created and create visualisations of the reddit titles from the official [subreddit of the HBO TV show Succession](https://www.reddit.com/r/SuccessionTV/)"
   ]
  },
  {
   "cell_type": "code",
   "execution_count": 45,
   "metadata": {},
   "outputs": [
    {
     "name": "stderr",
     "output_type": "stream",
     "text": [
      "[nltk_data] Downloading package stopwords to\n",
      "[nltk_data]     C:\\Users\\Michi\\AppData\\Roaming\\nltk_data...\n",
      "[nltk_data]   Unzipping corpora\\stopwords.zip.\n"
     ]
    },
    {
     "data": {
      "text/plain": [
       "True"
      ]
     },
     "execution_count": 45,
     "metadata": {},
     "output_type": "execute_result"
    }
   ],
   "source": [
    "import numpy as np\n",
    "import pandas as pd\n",
    "import seaborn as sns\n",
    "import matplotlib.pyplot as plt\n",
    "import re\n",
    "from nltk.corpus import stopwords\n",
    "nltk.download('stopwords')"
   ]
  },
  {
   "cell_type": "code",
   "execution_count": 7,
   "metadata": {},
   "outputs": [],
   "source": [
    "csv = pd.read_csv(\"results/succession_titles.csv\")\n"
   ]
  },
  {
   "cell_type": "markdown",
   "metadata": {},
   "source": [
    "Transform data to lowercase for easy comparison"
   ]
  },
  {
   "cell_type": "code",
   "execution_count": 8,
   "metadata": {},
   "outputs": [],
   "source": [
    "titles = csv.apply(lambda x: x.replace(\"'\",\"\"))\n",
    "titles = csv.apply(lambda x: x.str.lower())\n",
    "titles = titles.titles.apply(str)"
   ]
  },
  {
   "cell_type": "markdown",
   "metadata": {},
   "source": [
    "Function to count appearances of given names/text in a given dataframe"
   ]
  },
  {
   "cell_type": "code",
   "execution_count": 9,
   "metadata": {},
   "outputs": [],
   "source": [
    "def count_names(df,names):\n",
    "    name_count = []\n",
    "    for name in names:\n",
    "        count = 0\n",
    "        for index_of_text in df.index:\n",
    "            if name in df.iloc[index_of_text]:\n",
    "                count = count + 1\n",
    "        name_count.append(count)\n",
    "    return name_count"
   ]
  },
  {
   "cell_type": "markdown",
   "metadata": {},
   "source": [
    "Insert wanted names as list, transform to lowercase, run the function char_count() and insert results into a new dataframe"
   ]
  },
  {
   "cell_type": "code",
   "execution_count": 10,
   "metadata": {},
   "outputs": [],
   "source": [
    "succession_names = [\"Kendall\",\"Roman\",\"Shiv\",\"Tom\",\"Greg\",\"Logan\",\"Gerri\",\"Willa\",\"Connor\",\"Marcia\",\"Karolina\",\"Rava\",\"Frank\",\"Hugo\",\"Gil\",\"Karl\",\"Jess\"]\n",
    "\n",
    "temp_names = succession_names.copy()\n",
    "for i in range(len(temp_names)):\n",
    "    temp_names[i] = temp_names[i].lower()\n",
    "\n",
    "\n",
    "char_count = count_names(titles,temp_names)"
   ]
  },
  {
   "cell_type": "code",
   "execution_count": 11,
   "metadata": {},
   "outputs": [],
   "source": [
    "char_frequency = pd.DataFrame(char_count,index=succession_names,columns=[\"count\"])\n",
    "char_frequency.index.name = \"chars\"\n",
    "char_frequency = char_frequency.reset_index()"
   ]
  },
  {
   "cell_type": "markdown",
   "metadata": {},
   "source": [
    "Sort dataframe based on counts and visualisation ranking the most mentioned characters in reddit post titles from the series Succession"
   ]
  },
  {
   "cell_type": "code",
   "execution_count": 12,
   "metadata": {},
   "outputs": [
    {
     "data": {
      "image/png": "[encoded data removed]",
      "text/plain": [
       "<Figure size 1008x432 with 1 Axes>"
      ]
     },
     "metadata": {
      "needs_background": "light"
     },
     "output_type": "display_data"
    }
   ],
   "source": [
    "sorted_char_frequency = char_frequency.sort_values(\"count\",ascending=False)\n",
    "\n",
    "plt.figure(figsize=(14,6))\n",
    "sns.set_style(\"white\")\n",
    "sns.set(font_scale=1.20)\n",
    "bplot = sns.barplot(x=sorted_char_frequency[\"chars\"],y=sorted_char_frequency[\"count\"],palette=\"flare_r\").set(xlabel=\"\",ylabel=\"\")\n",
    "sns.despine()\n",
    "plt.savefig(\"sucession_chars_result.jpg\")"
   ]
  },
  {
   "cell_type": "markdown",
   "metadata": {},
   "source": [
    "Clean data from special characters"
   ]
  },
  {
   "cell_type": "code",
   "execution_count": 13,
   "metadata": {},
   "outputs": [],
   "source": [
    "titles_clean = titles.apply(lambda title: re.sub(r\"[^a-zA-Z0-9]+\", ' ', title))"
   ]
  },
  {
   "cell_type": "markdown",
   "metadata": {},
   "source": [
    "Function for splitting all title words into one list and returns this list"
   ]
  },
  {
   "cell_type": "code",
   "execution_count": 27,
   "metadata": {},
   "outputs": [],
   "source": [
    "def split_words(df):\n",
    "    list = [] \n",
    "    for words in df:\n",
    "        for word in words.split():\n",
    "            list.append(word)\n",
    "    return list"
   ]
  },
  {
   "cell_type": "code",
   "execution_count": 28,
   "metadata": {},
   "outputs": [
    {
     "data": {
      "text/html": [
       "<div>\n",
       "<style scoped>\n",
       "    .dataframe tbody tr th:only-of-type {\n",
       "        vertical-align: middle;\n",
       "    }\n",
       "\n",
       "    .dataframe tbody tr th {\n",
       "        vertical-align: top;\n",
       "    }\n",
       "\n",
       "    .dataframe thead th {\n",
       "        text-align: right;\n",
       "    }\n",
       "</style>\n",
       "<table border=\"1\" class=\"dataframe\">\n",
       "  <thead>\n",
       "    <tr style=\"text-align: right;\">\n",
       "      <th></th>\n",
       "      <th>word</th>\n",
       "    </tr>\n",
       "  </thead>\n",
       "  <tbody>\n",
       "    <tr>\n",
       "      <th>0</th>\n",
       "      <td>kendall</td>\n",
       "    </tr>\n",
       "    <tr>\n",
       "      <th>1</th>\n",
       "      <td>is</td>\n",
       "    </tr>\n",
       "    <tr>\n",
       "      <th>2</th>\n",
       "      <td>out</td>\n",
       "    </tr>\n",
       "    <tr>\n",
       "      <th>3</th>\n",
       "      <td>with</td>\n",
       "    </tr>\n",
       "    <tr>\n",
       "      <th>4</th>\n",
       "      <td>54</td>\n",
       "    </tr>\n",
       "  </tbody>\n",
       "</table>\n",
       "</div>"
      ],
      "text/plain": [
       "      word\n",
       "0  kendall\n",
       "1       is\n",
       "2      out\n",
       "3     with\n",
       "4       54"
      ]
     },
     "execution_count": 28,
     "metadata": {},
     "output_type": "execute_result"
    }
   ],
   "source": [
    "titles_split = pd.DataFrame(split_words(titles_clean),columns=[\"word\"])\n",
    "titles_split.head()"
   ]
  },
  {
   "cell_type": "markdown",
   "metadata": {},
   "source": [
    "Clean data from stop-words like \"is\", \"with\" and numbers (table above)"
   ]
  },
  {
   "cell_type": "code",
   "execution_count": 52,
   "metadata": {},
   "outputs": [],
   "source": [
    "clean_titles = [word for word in split_words(titles_clean) if word not in stopwords.words('english')]\n",
    "clean_titles_split = pd.DataFrame(clean_titles,columns=[\"word\"])"
   ]
  },
  {
   "cell_type": "markdown",
   "metadata": {},
   "source": [
    "Result: The three most mentioned words from reddit post titles are \"sucession\", \"season\" and the main character \"kendall\""
   ]
  },
  {
   "cell_type": "code",
   "execution_count": 54,
   "metadata": {},
   "outputs": [
    {
     "data": {
      "text/plain": [
       "word      \n",
       "succession    135\n",
       "season         84\n",
       "kendall        65\n",
       "tom            60\n",
       "anything       51\n",
       "one            50\n",
       "greg           49\n",
       "sell           49\n",
       "everything     45\n",
       "episode        44\n",
       "dtype: int64"
      ]
     },
     "execution_count": 54,
     "metadata": {},
     "output_type": "execute_result"
    }
   ],
   "source": [
    "clean_titles_split.value_counts().head(10)"
   ]
  }
 ],
 "metadata": {
  "interpreter": {
   "hash": "8126b9f9d4384901aa2891be0648d09e52dad7f986830f9eb8da61b27be7b641"
  },
  "kernelspec": {
   "display_name": "Python 3.9.7 ('ds')",
   "language": "python",
   "name": "python3"
  },
  "language_info": {
   "codemirror_mode": {
    "name": "ipython",
    "version": 3
   },
   "file_extension": ".py",
   "mimetype": "text/x-python",
   "name": "python",
   "nbconvert_exporter": "python",
   "pygments_lexer": "ipython3",
   "version": "3.9.7"
  },
  "orig_nbformat": 4
 },
 "nbformat": 4,
 "nbformat_minor": 2
}
